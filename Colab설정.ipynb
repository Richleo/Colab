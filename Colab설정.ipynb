{
  "nbformat": 4,
  "nbformat_minor": 0,
  "metadata": {
    "colab": {
      "name": "Colab설정.ipynb",
      "provenance": [],
      "collapsed_sections": [],
      "authorship_tag": "ABX9TyNcZ37xyX4rChH619b9YAKg",
      "include_colab_link": true
    },
    "kernelspec": {
      "name": "python3",
      "display_name": "Python 3"
    }
  },
  "cells": [
    {
      "cell_type": "markdown",
      "metadata": {
        "id": "view-in-github",
        "colab_type": "text"
      },
      "source": [
        "<a href=\"https://colab.research.google.com/github/Richleo/Colab/blob/master/Colab%EC%84%A4%EC%A0%95.ipynb\" target=\"_parent\"><img src=\"https://colab.research.google.com/assets/colab-badge.svg\" alt=\"Open In Colab\"/></a>"
      ]
    },
    {
      "cell_type": "code",
      "metadata": {
        "id": "1QZ_fzJkXVeO",
        "colab_type": "code",
        "colab": {
          "base_uri": "https://localhost:8080/",
          "height": 233
        },
        "outputId": "85d98071-5999-4630-a946-805590902cd0"
      },
      "source": [
        "from tensorflow.python.client import device_lib\n",
        "device_lib.list_local_devices()"
      ],
      "execution_count": null,
      "outputs": [
        {
          "output_type": "execute_result",
          "data": {
            "text/plain": [
              "[name: \"/device:CPU:0\"\n",
              " device_type: \"CPU\"\n",
              " memory_limit: 268435456\n",
              " locality {\n",
              " }\n",
              " incarnation: 17717589038162280470, name: \"/device:XLA_CPU:0\"\n",
              " device_type: \"XLA_CPU\"\n",
              " memory_limit: 17179869184\n",
              " locality {\n",
              " }\n",
              " incarnation: 10794872600845164690\n",
              " physical_device_desc: \"device: XLA_CPU device\"]"
            ]
          },
          "metadata": {
            "tags": []
          },
          "execution_count": 1
        }
      ]
    },
    {
      "cell_type": "code",
      "metadata": {
        "id": "WyzvN1mEoi_q",
        "colab_type": "code",
        "colab": {
          "base_uri": "https://localhost:8080/",
          "height": 35
        },
        "outputId": "4b54c895-f850-44dd-a886-ba53f747d8e7"
      },
      "source": [
        "%%writefile  test.py\n",
        "print('hello world!')\n",
        "\n",
        "# test.py 실행시키기\n",
        "%run test.py\n",
        "\n",
        "from google.colab import files\n",
        "# 브라우저에 다운로드 됨을 확인할 수 있다.\n",
        "files.download('test.py')\n",
        "\n",
        "# [Cancel upload] 버튼을 클릭하여 잠시 멈춘 후 파일선택 버튼을 클릭하면 PC 내 파일을 선택할 수 있는 다이얼로그 창이 뜬다.\n",
        "# 리턴값을 받는 변수인 myupload라는 이름의 디렉토리가 생성된다.\n",
        "myupload = files.upload()"
      ],
      "execution_count": null,
      "outputs": [
        {
          "output_type": "stream",
          "text": [
            "Writing test.py\n"
          ],
          "name": "stdout"
        }
      ]
    },
    {
      "cell_type": "code",
      "metadata": {
        "id": "GMc3nZ8EpPwh",
        "colab_type": "code",
        "colab": {
          "base_uri": "https://localhost:8080/",
          "height": 161
        },
        "outputId": "542cbfb6-4d6e-42d0-ee7e-79dc566fb01f"
      },
      "source": [
        "import os\n",
        "print(os.getcwd())\n",
        "!ls\n",
        "\n",
        "# 실행시 등장하는 URL을 클릭하여 허용해주면 인증KEY가 나타난다. 복사하여 URL아래 빈칸에 붙여넣으면 마운트에 성공하게된다.\n",
        "from google.colab import drive\n",
        "drive.mount('./MyDrive')\n"
      ],
      "execution_count": null,
      "outputs": [
        {
          "output_type": "stream",
          "text": [
            "/content\n",
            "sample_data\n",
            "Go to this URL in a browser: https://accounts.google.com/o/oauth2/auth?client_id=947318989803-6bn6qk8qdgf4n4g3pfee6491hc0brc4i.apps.googleusercontent.com&redirect_uri=urn%3aietf%3awg%3aoauth%3a2.0%3aoob&response_type=code&scope=email%20https%3a%2f%2fwww.googleapis.com%2fauth%2fdocs.test%20https%3a%2f%2fwww.googleapis.com%2fauth%2fdrive%20https%3a%2f%2fwww.googleapis.com%2fauth%2fdrive.photos.readonly%20https%3a%2f%2fwww.googleapis.com%2fauth%2fpeopleapi.readonly\n",
            "\n",
            "Enter your authorization code:\n",
            "··········\n",
            "Mounted at ./MyDrive\n"
          ],
          "name": "stdout"
        }
      ]
    },
    {
      "cell_type": "code",
      "metadata": {
        "id": "2kvEgzPqoI4d",
        "colab_type": "code",
        "colab": {
          "base_uri": "https://localhost:8080/",
          "height": 34
        },
        "outputId": "a45c6740-e5c1-40f0-bd4a-5bf4f2bbd985"
      },
      "source": [
        "ls"
      ],
      "execution_count": null,
      "outputs": [
        {
          "output_type": "stream",
          "text": [
            "\u001b[0m\u001b[01;34mMyDrive\u001b[0m/  \u001b[01;34msample_data\u001b[0m/\n"
          ],
          "name": "stdout"
        }
      ]
    },
    {
      "cell_type": "code",
      "metadata": {
        "id": "X7bJUgV4qH5-",
        "colab_type": "code",
        "colab": {
          "base_uri": "https://localhost:8080/",
          "height": 241
        },
        "outputId": "14191933-662d-4771-9016-45b0b2aec765"
      },
      "source": [
        "import os\n",
        "# 마운트된 내 드라이브를 확인해보자\n",
        "#!ls\n",
        "\n",
        "# 해당 드라이브로 이동 \n",
        "#os.chdir(\"MyDrive/My Drive/CoLab\") \n",
        "# 내 드라이브는 원격서버가 아니라 로컬서버로 간주하므로 명령어 실행시 앞단에 !를 붙이지 않는다.\n",
        "print(os.getcwd())\n",
        "ls\n",
        "# 내드라이브의 전체 목록이 나타난다.\n"
      ],
      "execution_count": null,
      "outputs": [
        {
          "output_type": "stream",
          "text": [
            "/content/MyDrive/My Drive/CoLab\n"
          ],
          "name": "stdout"
        },
        {
          "output_type": "error",
          "ename": "NameError",
          "evalue": "ignored",
          "traceback": [
            "\u001b[0;31m---------------------------------------------------------------------------\u001b[0m",
            "\u001b[0;31mNameError\u001b[0m                                 Traceback (most recent call last)",
            "\u001b[0;32m<ipython-input-23-f2f0baa78856>\u001b[0m in \u001b[0;36m<module>\u001b[0;34m()\u001b[0m\n\u001b[1;32m      7\u001b[0m \u001b[0;31m# 내 드라이브는 원격서버가 아니라 로컬서버로 간주하므로 명령어 실행시 앞단에 !를 붙이지 않는다.\u001b[0m\u001b[0;34m\u001b[0m\u001b[0;34m\u001b[0m\u001b[0;34m\u001b[0m\u001b[0m\n\u001b[1;32m      8\u001b[0m \u001b[0mprint\u001b[0m\u001b[0;34m(\u001b[0m\u001b[0mos\u001b[0m\u001b[0;34m.\u001b[0m\u001b[0mgetcwd\u001b[0m\u001b[0;34m(\u001b[0m\u001b[0;34m)\u001b[0m\u001b[0;34m)\u001b[0m\u001b[0;34m\u001b[0m\u001b[0;34m\u001b[0m\u001b[0m\n\u001b[0;32m----> 9\u001b[0;31m \u001b[0mls\u001b[0m\u001b[0;34m\u001b[0m\u001b[0;34m\u001b[0m\u001b[0m\n\u001b[0m\u001b[1;32m     10\u001b[0m \u001b[0;31m# 내드라이브의 전체 목록이 나타난다.\u001b[0m\u001b[0;34m\u001b[0m\u001b[0;34m\u001b[0m\u001b[0;34m\u001b[0m\u001b[0m\n",
            "\u001b[0;31mNameError\u001b[0m: name 'ls' is not defined"
          ]
        }
      ]
    },
    {
      "cell_type": "code",
      "metadata": {
        "id": "o7OCaEW5rteB",
        "colab_type": "code",
        "colab": {
          "base_uri": "https://localhost:8080/",
          "height": 53
        },
        "outputId": "cc206d2c-d5ee-4259-9e84-6f7462524ff6"
      },
      "source": [
        "!cd gdrive/data; ls-al;"
      ],
      "execution_count": null,
      "outputs": [
        {
          "output_type": "stream",
          "text": [
            "/bin/bash: line 0: cd: gdrive/data: No such file or directory\n",
            "/bin/bash: ls-al: command not found\n"
          ],
          "name": "stdout"
        }
      ]
    },
    {
      "cell_type": "code",
      "metadata": {
        "id": "AGdDSm6tsvtv",
        "colab_type": "code",
        "colab": {
          "base_uri": "https://localhost:8080/",
          "height": 53
        },
        "outputId": "d0ecb39e-cc62-43f5-d96d-85eb8bfb3944"
      },
      "source": [
        "!cd gdrive/colab; ls-al;"
      ],
      "execution_count": null,
      "outputs": [
        {
          "output_type": "stream",
          "text": [
            "/bin/bash: line 0: cd: gdrive/colab: No such file or directory\n",
            "/bin/bash: ls-al: command not found\n"
          ],
          "name": "stdout"
        }
      ]
    },
    {
      "cell_type": "code",
      "metadata": {
        "id": "_mqlFMs1s0j1",
        "colab_type": "code",
        "colab": {
          "base_uri": "https://localhost:8080/",
          "height": 35
        },
        "outputId": "788f7acf-8ff9-42cf-cf65-aa9cf08ae1e6"
      },
      "source": [
        "!ls"
      ],
      "execution_count": null,
      "outputs": [
        {
          "output_type": "stream",
          "text": [
            "MyDrive  sample_data  test.py\n"
          ],
          "name": "stdout"
        }
      ]
    },
    {
      "cell_type": "code",
      "metadata": {
        "id": "3HFpF2tMs3mN",
        "colab_type": "code",
        "colab": {
          "base_uri": "https://localhost:8080/",
          "height": 35
        },
        "outputId": "06f23c15-8588-46cd-c998-7b95aa0cddc2"
      },
      "source": [
        "!ls 'MyDrive'"
      ],
      "execution_count": null,
      "outputs": [
        {
          "output_type": "stream",
          "text": [
            "'My Drive'\n"
          ],
          "name": "stdout"
        }
      ]
    },
    {
      "cell_type": "code",
      "metadata": {
        "id": "nxT7XjUSuMU9",
        "colab_type": "code",
        "colab": {
          "base_uri": "https://localhost:8080/",
          "height": 35
        },
        "outputId": "bfbd19d8-3172-4d19-a1db-c8f30bf7f700"
      },
      "source": [
        "dir\n"
      ],
      "execution_count": null,
      "outputs": [
        {
          "output_type": "execute_result",
          "data": {
            "text/plain": [
              "<function dir>"
            ]
          },
          "metadata": {
            "tags": []
          },
          "execution_count": 18
        }
      ]
    },
    {
      "cell_type": "code",
      "metadata": {
        "id": "ufC4qDcBxnYQ",
        "colab_type": "code",
        "colab": {
          "base_uri": "https://localhost:8080/",
          "height": 35
        },
        "outputId": "58d08dfb-50bd-40b8-a7d2-48609fba29db"
      },
      "source": [
        "%dir"
      ],
      "execution_count": null,
      "outputs": [
        {
          "output_type": "stream",
          "text": [
            "UsageError: Line magic function `%dir` not found.\n"
          ],
          "name": "stderr"
        }
      ]
    },
    {
      "cell_type": "code",
      "metadata": {
        "id": "P8x6ZgPyxpik",
        "colab_type": "code",
        "colab": {
          "base_uri": "https://localhost:8080/",
          "height": 34
        },
        "outputId": "5c70153d-6816-4a47-bc09-6073d0115c72"
      },
      "source": [
        "#/content/.config/.last_survey_prompt.yaml\n",
        "#/content/.config/active_config\n",
        "#/content/.config/config_sentinel\n",
        "#/content/.config/gce\n",
        "#/content/.config/.last_update_check.json\n",
        "#/content/.config/.last_opt_in_prompt.yaml\n",
        "#/content/.config/.metricsUUID\n",
        "#/content/.config/configurations/config_default\n",
        "#/content/.config/logs/2020.06.26/16.25.58.989664.log\n",
        "#/content/.config/logs/2020.06.26/16.25.38.639070.log\n",
        "#/content/.config/logs/2020.06.26/16.26.32.322745.log\n",
        "#/content/.config/logs/2020.06.26/16.26.18.185568.log\n",
        "#/content/.config/logs/2020.06.26/16.26.12.354762.log\n",
        "#/content/.config/logs/2020.06.26/16.26.31.787344.log\n",
        "#/content/MyDrive/My Drive/내가 저장한 장소.gmap\n",
        "#/content/MyDrive/My Drive/Ibis Kazan Centre 호텔.gmap\n",
        "#/content/MyDrive/My Drive/image001.jpg\n",
        "#/content/MyDrive/My Drive/ETKT_SHINDONG_31AUG.pdf\n",
        "#/content/MyDrive/My Drive/DB_IMPORT.xlsx\n",
        "#/content/MyDrive/My Drive/제목 없는 스프레드시트 (1).gsheet\n",
        "#/content/MyDrive/My Drive/RTree 2번째.gdoc\n",
        "#/content/MyDrive/My Drive/OC 메뉴얼.gdoc\n",
        "#/content/MyDrive/My Drive/SHIN_Dongyun.pdf\n",
        "#/content/MyDrive/My Drive/unknown\n",
        "#/content/MyDrive/My Drive/600패턴.gsheet\n",
        "#/content/MyDrive/My Drive/SHINDONGYUNMR_6cc1720190703105128.pdf\n",
        "#/content/MyDrive/My Drive/제목 없는 스프레드시트.gsheet\n",
        "#/content/MyDrive/My Drive/주식공부.gsheet\n",
        "#/content/MyDrive/My Drive/3분 딥러닝 텐서플로.gslides\n",
        "#/content/MyDrive/My Drive/야구 타순 관련 논문.gslides\n",
        "#/content/MyDrive/My Drive/신유정 성장기.gslides\n",
        "#/content/MyDrive/My Drive/일본어능력시험2급단어.gsheet\n",
        "#/content/MyDrive/My Drive/야구 타순 관련 논문_20200702.gslides\n",
        "#/content/MyDrive/My Drive/Untitled\n",
        "#/content/MyDrive/My Drive/SICC/MG2015_ToDo_List.gsheet\n",
        "#/content/MyDrive/My Drive/SICC/ODF이해.gslides\n",
        "#/content/MyDrive/My Drive/SICC/P_COMP_NO 쿼리분석.gslides\n",
        "#/content/MyDrive/My Drive/SICC/VRS에서 사용하는 SQL관련.gslides\n",
        "#/content/MyDrive/My Drive/SICC/ODF_Issue_Status.ods\n",
        "#/content/MyDrive/My Drive/SICC/ODF Issue Tracking.gsheet\n",
        "#/content/MyDrive/My Drive/SICC/2017년 11월 24일 스포츠부문 워크샵 참석자 현황.gsheet\n",
        "#/content/MyDrive/My Drive/SICC/2018 Invitation Tournament (eng).gslides\n",
        "#/content/MyDrive/My Drive/SICC/ORP_NOC.gsheet\n",
        "#/content/MyDrive/My Drive/SICC/ORP.gslides\n",
        "#/content/MyDrive/My Drive/SICC/AG2018 종목별 이슈.gsheet\n",
        "#/content/MyDrive/My Drive/SICC/ORP 개발.gslides\n",
        "#/content/MyDrive/My Drive/개인/오바마연설_자막.gdoc\n",
        "#/content/MyDrive/My Drive/개인/대박영어.gsheet\n",
        "#/content/MyDrive/My Drive/개인/Least Squares 설명.gdoc\n",
        "#/content/MyDrive/My Drive/개인/Least squares.gslides\n",
        "#/content/MyDrive/My Drive/개인/Huber Regression.gdoc\n",
        "#/content/MyDrive/My Drive/개인/인터프리터.gdoc\n",
        "#/content/MyDrive/My Drive/개인/스티브잡스스탠포드연설.pdf\n",
        "#/content/MyDrive/My Drive/개인/차원축소 + R-Tree.gdoc\n",
        "#/content/MyDrive/My Drive/개인/다차원인덱스와 차원 축소를 사용하는 사례조사.gdoc\n",
        "#/content/MyDrive/My Drive/개인/Image to Image Mappings.gdoc\n",
        "#/content/MyDrive/My Drive/개인/프로야구의 최적 타순 추천 01.gslides\n",
        "#/content/MyDrive/My Drive/개인/프로야구의 최적 타순 추천 02.gslides\n",
        "#/content/MyDrive/My Drive/개인/아파트.gsheet\n",
        "#/content/MyDrive/My Drive/Colab Notebooks/Colab설정.ipynb\n",
        "#/content/MyDrive/My Drive/CoLab/Untitled0.ipynb\n",
        "#/content/sample_data/README.md\n",
        "#/content/sample_data/anscombe.json\n",
        "#/content/sample_data/california_housing_train.csv\n",
        "#/content/sample_data/mnist_test.csv\n",
        "#/content/sample_data/mnist_train_small.csv\n",
        "#/content/sample_data/california_housing_test.csv\n",
        "\n",
        "\n",
        "import os\n",
        " \n",
        "cwd = os.getcwd()\n",
        " \n",
        "for (path, dirs, files) in os.walk(cwd):\n",
        "    for f in files:\n",
        "        fullpath = os.path.join(path, f)\n",
        "        print(fullpath)"
      ],
      "execution_count": null,
      "outputs": [
        {
          "output_type": "stream",
          "text": [
            "/content/MyDrive/My Drive/CoLab/Untitled0.ipynb\n"
          ],
          "name": "stdout"
        }
      ]
    },
    {
      "cell_type": "code",
      "metadata": {
        "id": "4H9ns8lVxWPX",
        "colab_type": "code",
        "colab": {}
      },
      "source": [
        "#참고 URL\n",
        "#https://teddylee777.github.io/colab/Google-colab%EC%9C%BC%EB%A1%9C-GPU-%EB%B6%80%EC%8A%A4%ED%8A%B8%EB%B0%9B%EC%95%84-machine-learning-%ED%95%99%EC%8A%B5%ED%95%98%EA%B8%B0\n",
        "\n",
        "#Google Drive api를 활용하기 위하여 PyDrive package를 인스톨 합니다.\n",
        "!pip install -U -q PyDrive"
      ],
      "execution_count": null,
      "outputs": []
    },
    {
      "cell_type": "code",
      "metadata": {
        "id": "G6OpCZPw7BbH",
        "colab_type": "code",
        "colab": {}
      },
      "source": [
        "#Auth 승인을 받습니다.\n",
        "\n",
        "from pydrive.auth import GoogleAuth\n",
        "from pydrive.drive import GoogleDrive\n",
        "from google.colab import auth\n",
        "from oauth2client.client import GoogleCredentials\n",
        "   \n",
        "# PyDrive Authentication\n",
        "auth.authenticate_user()\n",
        "gauth = GoogleAuth()\n",
        "gauth.credentials = GoogleCredentials.get_application_default()\n",
        "drive = GoogleDrive(gauth)"
      ],
      "execution_count": null,
      "outputs": []
    },
    {
      "cell_type": "code",
      "metadata": {
        "id": "anZ33Cjp7jQd",
        "colab_type": "code",
        "colab": {}
      },
      "source": [
        "#Folder Id로 FileList 받아오기\n",
        "#폴더의 id 값을 알아야 하는데 이는 주소창에서 ‘https://drive.google.com/drive/folders/’ 뒤에 붙는 값\n",
        "\n",
        "folder_id = '1rMZbeO0TE1-dZpLRfU8s_mGii1_YALGo'\n",
        "   \n",
        "def ListFolder(parent):\n",
        "    filelist=[]\n",
        "    file_list = drive.ListFile({'q': \"'%s' in parents and trashed=false\" % parent}).GetList()\n",
        "    for f in file_list:\n",
        "        if f['mimeType']=='application/vnd.google-apps.folder': # if folder\n",
        "            filelist.append({\"id\":f['id'],\"title\":f['title'],\"list\":ListFolder(f['id'])})\n",
        "        else:\n",
        "            filelist.append({\"title\":f['title'],\"id\":f['id']})\n",
        "    return filelist\n",
        "   \n",
        "   \n",
        "file_lists = ListFolder(folder_id)\n",
        "print(file_lists)"
      ],
      "execution_count": null,
      "outputs": []
    },
    {
      "cell_type": "code",
      "metadata": {
        "id": "A-9QK7i87_QV",
        "colab_type": "code",
        "colab": {
          "base_uri": "https://localhost:8080/",
          "height": 34
        },
        "outputId": "3e1240f8-dea2-44ed-c90e-8e07e9488418"
      },
      "source": [
        "# choose a local (colab) directory to store the data.\n",
        "# https://drive.google.com/drive/folders/CoLab/my_sample_data 만들어짐\n",
        "cwd = os.getcwd()\n",
        "local_download_path = os.path.expanduser(cwd + '/my_sample_data')\n",
        "try:\n",
        "\tos.makedirs(local_download_path)\n",
        "except: pass\n",
        "\n",
        "print(local_download_path)\n",
        "#디렉토리 삭제\n",
        "#os.rmdir(local_download_path)"
      ],
      "execution_count": null,
      "outputs": [
        {
          "output_type": "stream",
          "text": [
            "/content/MyDrive/My Drive/CoLab/my_sample_data\n"
          ],
          "name": "stdout"
        }
      ]
    },
    {
      "cell_type": "code",
      "metadata": {
        "id": "Y1I-rvuE8SBb",
        "colab_type": "code",
        "colab": {
          "base_uri": "https://localhost:8080/",
          "height": 34
        },
        "outputId": "1bdfb524-391b-4742-894e-77fc92a374cf"
      },
      "source": [
        "!ls"
      ],
      "execution_count": null,
      "outputs": [
        {
          "output_type": "stream",
          "text": [
            "my_sample_data\tUntitled0.ipynb\n"
          ],
          "name": "stdout"
        }
      ]
    },
    {
      "cell_type": "code",
      "metadata": {
        "id": "-HRR4bdO83FF",
        "colab_type": "code",
        "colab": {
          "base_uri": "https://localhost:8080/",
          "height": 70
        },
        "outputId": "30c71f59-49e7-4af0-d76b-59841e82337c"
      },
      "source": [
        "ret = []\n",
        "for file in file_lists:\n",
        "    print('title: %s, id: %s' % (file['title'], file['id']))\n",
        "    fname = os.path.join(local_download_path, file['title'])\n",
        "    print('downloading to {}'.format(fname))\n",
        "    f_ = drive.CreateFile({'id': file['id']})\n",
        "    f_.GetContentFile(fname)\n",
        "    print(fname)\n",
        "    ret.append(fname)"
      ],
      "execution_count": null,
      "outputs": [
        {
          "output_type": "stream",
          "text": [
            "title: Untitled0.ipynb, id: 1byEDqEq4ilJhjxtsEK8VfAE6sEtR9Ord\n",
            "downloading to /content/MyDrive/My Drive/CoLab/my_sample_data/Untitled0.ipynb\n",
            "/content/MyDrive/My Drive/CoLab/my_sample_data/Untitled0.ipynb\n"
          ],
          "name": "stdout"
        }
      ]
    },
    {
      "cell_type": "code",
      "metadata": {
        "id": "1nylmjXo9EiY",
        "colab_type": "code",
        "colab": {
          "base_uri": "https://localhost:8080/",
          "height": 130
        },
        "outputId": "0c58bfc0-9c75-4878-bd32-7b20e878eda0"
      },
      "source": [
        "import pandas as pd\n",
        "pd.read_csv(ret[0])"
      ],
      "execution_count": null,
      "outputs": [
        {
          "output_type": "execute_result",
          "data": {
            "text/html": [
              "<div>\n",
              "<style scoped>\n",
              "    .dataframe tbody tr th:only-of-type {\n",
              "        vertical-align: middle;\n",
              "    }\n",
              "\n",
              "    .dataframe tbody tr th {\n",
              "        vertical-align: top;\n",
              "    }\n",
              "\n",
              "    .dataframe thead th {\n",
              "        text-align: right;\n",
              "    }\n",
              "</style>\n",
              "<table border=\"1\" class=\"dataframe\">\n",
              "  <thead>\n",
              "    <tr style=\"text-align: right;\">\n",
              "      <th></th>\n",
              "      <th>{\"nbformat\":4</th>\n",
              "      <th>nbformat_minor:0</th>\n",
              "      <th>metadata:{\"colab\":{\"name\":\"Untitled0.ipynb\"</th>\n",
              "      <th>provenance:[]</th>\n",
              "      <th>authorship_tag:\"ABX9TyOm757WRUi3LJW+rPFZLTft\"}</th>\n",
              "      <th>kernelspec:{\"name\":\"python3\"</th>\n",
              "      <th>display_name:\"Python 3\"}}</th>\n",
              "      <th>cells:[{\"cell_type\":\"code\"</th>\n",
              "      <th>metadata:{\"id\":\"VWqme9eiq6pR\"</th>\n",
              "      <th>colab_type:\"code\"</th>\n",
              "      <th>colab:{\"base_uri\":\"https://localhost:8080/\"</th>\n",
              "      <th>height:35}</th>\n",
              "      <th>executionInfo:{\"status\":\"ok\"</th>\n",
              "      <th>timestamp:1593948840884</th>\n",
              "      <th>user_tz:-540</th>\n",
              "      <th>elapsed:7671</th>\n",
              "      <th>user:{\"displayName\":\"LEO SHIN\"</th>\n",
              "      <th>photoUrl:\"\"</th>\n",
              "      <th>userId:\"04214503841731183049\"}}</th>\n",
              "      <th>outputId:\"e666672d-8ec5-4b3d-bbe2-45472332b8a6\"}</th>\n",
              "      <th>source:[\"ls\"]</th>\n",
              "      <th>execution_count:1</th>\n",
              "      <th>outputs:[{\"output_type\":\"stream\"</th>\n",
              "      <th>text:[\"\\u001b[0m\\u001b[01;34msample_data\\u001b[0m/\\n\"]</th>\n",
              "      <th>name:\"stdout\"}]}</th>\n",
              "      <th>{\"cell_type\":\"code\"</th>\n",
              "      <th>metadata:{\"id\":\"To0psu5Lq9T6\"</th>\n",
              "      <th>colab_type:\"code\".1</th>\n",
              "      <th>colab:{\"base_uri\":\"https://localhost:8080/\".1</th>\n",
              "      <th>height:35}.1</th>\n",
              "      <th>executionInfo:{\"status\":\"ok\".1</th>\n",
              "      <th>timestamp:1593948856736</th>\n",
              "      <th>user_tz:-540.1</th>\n",
              "      <th>elapsed:4319</th>\n",
              "      <th>user:{\"displayName\":\"LEO SHIN\".1</th>\n",
              "      <th>photoUrl:\"\".1</th>\n",
              "      <th>userId:\"04214503841731183049\"}}.1</th>\n",
              "      <th>outputId:\"34e28933-4124-4417-e867-b14f71414904\"}</th>\n",
              "      <th>source:[\"!ls\"]</th>\n",
              "      <th>execution_count:2</th>\n",
              "      <th>...</th>\n",
              "      <th>userId:\"04214503841731183049\"}}.2</th>\n",
              "      <th>outputId:\"4eb1c926-4748-4312-dbb5-1d66229882f3\"}</th>\n",
              "      <th>source:[\"import os\\n\"</th>\n",
              "      <th>\\n</th>\n",
              "      <th>cwd = os.getcwd()\\n</th>\n",
              "      <th>\\n.1</th>\n",
              "      <th>for (path, dirs, files) in os.walk(cwd):\\n</th>\n",
              "      <th>for f in files:\\n</th>\n",
              "      <th>fullpath = os.path.join(path, f)\\n</th>\n",
              "      <th>print(fullpath)]</th>\n",
              "      <th>execution_count:3</th>\n",
              "      <th>outputs:[{\"output_type\":\"stream\".2</th>\n",
              "      <th>text:[\"/content/.config/.last_survey_prompt.yaml\\n\"</th>\n",
              "      <th>/content/.config/active_config\\n</th>\n",
              "      <th>/content/.config/config_sentinel\\n</th>\n",
              "      <th>/content/.config/gce\\n</th>\n",
              "      <th>/content/.config/.last_update_check.json\\n</th>\n",
              "      <th>/content/.config/.last_opt_in_prompt.yaml\\n</th>\n",
              "      <th>/content/.config/.metricsUUID\\n</th>\n",
              "      <th>/content/.config/configurations/config_default\\n</th>\n",
              "      <th>/content/.config/logs/2020.06.26/16.25.58.989664.log\\n</th>\n",
              "      <th>/content/.config/logs/2020.06.26/16.25.38.639070.log\\n</th>\n",
              "      <th>/content/.config/logs/2020.06.26/16.26.32.322745.log\\n</th>\n",
              "      <th>/content/.config/logs/2020.06.26/16.26.18.185568.log\\n</th>\n",
              "      <th>/content/.config/logs/2020.06.26/16.26.12.354762.log\\n</th>\n",
              "      <th>/content/.config/logs/2020.06.26/16.26.31.787344.log\\n</th>\n",
              "      <th>/content/sample_data/README.md\\n</th>\n",
              "      <th>/content/sample_data/anscombe.json\\n</th>\n",
              "      <th>/content/sample_data/california_housing_train.csv\\n</th>\n",
              "      <th>/content/sample_data/mnist_test.csv\\n</th>\n",
              "      <th>/content/sample_data/mnist_train_small.csv\\n</th>\n",
              "      <th>/content/sample_data/california_housing_test.csv\\n]</th>\n",
              "      <th>name:\"stdout\"}]}.2</th>\n",
              "      <th>{\"cell_type\":\"code\".2</th>\n",
              "      <th>metadata:{\"id\":\"3-R8mc4zxOt9\"</th>\n",
              "      <th>colab_type:\"code\".3</th>\n",
              "      <th>colab:{}}</th>\n",
              "      <th>source:[\"\"]</th>\n",
              "      <th>execution_count:null</th>\n",
              "      <th>outputs:[]}]}</th>\n",
              "    </tr>\n",
              "  </thead>\n",
              "  <tbody>\n",
              "  </tbody>\n",
              "</table>\n",
              "<p>0 rows × 94 columns</p>\n",
              "</div>"
            ],
            "text/plain": [
              "Empty DataFrame\n",
              "Columns: [{\"nbformat\":4, nbformat_minor:0, metadata:{\"colab\":{\"name\":\"Untitled0.ipynb\", provenance:[], authorship_tag:\"ABX9TyOm757WRUi3LJW+rPFZLTft\"}, kernelspec:{\"name\":\"python3\", display_name:\"Python 3\"}}, cells:[{\"cell_type\":\"code\", metadata:{\"id\":\"VWqme9eiq6pR\", colab_type:\"code\", colab:{\"base_uri\":\"https://localhost:8080/\", height:35}, executionInfo:{\"status\":\"ok\", timestamp:1593948840884, user_tz:-540, elapsed:7671, user:{\"displayName\":\"LEO SHIN\", photoUrl:\"\", userId:\"04214503841731183049\"}}, outputId:\"e666672d-8ec5-4b3d-bbe2-45472332b8a6\"}, source:[\"ls\"], execution_count:1, outputs:[{\"output_type\":\"stream\", text:[\"\\u001b[0m\\u001b[01;34msample_data\\u001b[0m/\\n\"], name:\"stdout\"}]}, {\"cell_type\":\"code\", metadata:{\"id\":\"To0psu5Lq9T6\", colab_type:\"code\".1, colab:{\"base_uri\":\"https://localhost:8080/\".1, height:35}.1, executionInfo:{\"status\":\"ok\".1, timestamp:1593948856736, user_tz:-540.1, elapsed:4319, user:{\"displayName\":\"LEO SHIN\".1, photoUrl:\"\".1, userId:\"04214503841731183049\"}}.1, outputId:\"34e28933-4124-4417-e867-b14f71414904\"}, source:[\"!ls\"], execution_count:2, outputs:[{\"output_type\":\"stream\".1, text:[\"sample_data\\n\"], name:\"stdout\"}]}.1, {\"cell_type\":\"code\".1, metadata:{\"id\":\"yZMSQGzKwU67\", colab_type:\"code\".2, colab:{\"base_uri\":\"https://localhost:8080/\".2, height:377}, executionInfo:{\"status\":\"ok\".2, timestamp:1593949089585, user_tz:-540.2, elapsed:817, user:{\"displayName\":\"LEO SHIN\".2, photoUrl:\"\".2, userId:\"04214503841731183049\"}}.2, outputId:\"4eb1c926-4748-4312-dbb5-1d66229882f3\"}, source:[\"import os\\n\",  \\n, cwd = os.getcwd()\\n,  \\n.1, for (path, dirs, files) in os.walk(cwd):\\n,     for f in files:\\n,         fullpath = os.path.join(path, f)\\n,         print(fullpath)], execution_count:3, outputs:[{\"output_type\":\"stream\".2, text:[\"/content/.config/.last_survey_prompt.yaml\\n\", /content/.config/active_config\\n, /content/.config/config_sentinel\\n, /content/.config/gce\\n, /content/.config/.last_update_check.json\\n, /content/.config/.last_opt_in_prompt.yaml\\n, /content/.config/.metricsUUID\\n, /content/.config/configurations/config_default\\n, /content/.config/logs/2020.06.26/16.25.58.989664.log\\n, /content/.config/logs/2020.06.26/16.25.38.639070.log\\n, /content/.config/logs/2020.06.26/16.26.32.322745.log\\n, /content/.config/logs/2020.06.26/16.26.18.185568.log\\n, /content/.config/logs/2020.06.26/16.26.12.354762.log\\n, /content/.config/logs/2020.06.26/16.26.31.787344.log\\n, /content/sample_data/README.md\\n, /content/sample_data/anscombe.json\\n, /content/sample_data/california_housing_train.csv\\n, /content/sample_data/mnist_test.csv\\n, /content/sample_data/mnist_train_small.csv\\n, /content/sample_data/california_housing_test.csv\\n], name:\"stdout\"}]}.2, {\"cell_type\":\"code\".2, metadata:{\"id\":\"3-R8mc4zxOt9\", colab_type:\"code\".3, colab:{}}, source:[\"\"], execution_count:null, outputs:[]}]}]\n",
              "Index: []\n",
              "\n",
              "[0 rows x 94 columns]"
            ]
          },
          "metadata": {
            "tags": []
          },
          "execution_count": 39
        }
      ]
    },
    {
      "cell_type": "code",
      "metadata": {
        "id": "kGLCxma4-bbQ",
        "colab_type": "code",
        "colab": {
          "base_uri": "https://localhost:8080/",
          "height": 34
        },
        "outputId": "12eb102a-5a34-4424-9b01-a4ab1ebb3f6d"
      },
      "source": [
        "print(ret[0])"
      ],
      "execution_count": null,
      "outputs": [
        {
          "output_type": "stream",
          "text": [
            "/content/MyDrive/My Drive/CoLab/my_sample_data/Untitled0.ipynb\n"
          ],
          "name": "stdout"
        }
      ]
    },
    {
      "cell_type": "code",
      "metadata": {
        "id": "XdiBqIVM-nXY",
        "colab_type": "code",
        "colab": {}
      },
      "source": [
        ""
      ],
      "execution_count": null,
      "outputs": []
    }
  ]
}