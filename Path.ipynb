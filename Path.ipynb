{
  "nbformat": 4,
  "nbformat_minor": 0,
  "metadata": {
    "colab": {
      "name": "Path.ipynb",
      "provenance": [],
      "collapsed_sections": [],
      "authorship_tag": "ABX9TyPbjz04Hv/V6GyOzqOil2XX",
      "include_colab_link": true
    },
    "kernelspec": {
      "name": "python3",
      "display_name": "Python 3"
    }
  },
  "cells": [
    {
      "cell_type": "markdown",
      "metadata": {
        "id": "view-in-github",
        "colab_type": "text"
      },
      "source": [
        "<a href=\"https://colab.research.google.com/github/Richleo/Colab/blob/master/Path.ipynb\" target=\"_parent\"><img src=\"https://colab.research.google.com/assets/colab-badge.svg\" alt=\"Open In Colab\"/></a>"
      ]
    },
    {
      "cell_type": "code",
      "metadata": {
        "id": "VWqme9eiq6pR",
        "colab_type": "code",
        "colab": {
          "base_uri": "https://localhost:8080/",
          "height": 1000
        },
        "outputId": "157a0915-2c65-4714-8ff9-a2f10192f5a4"
      },
      "source": [
        "#################################################################\n",
        "# 현재 폴더의 위치 보기\n",
        "#################################################################\n",
        "\n",
        "# 현재 폴더의 위치. MOUNT 하기 전\n",
        "# 예상 실행결과 : sample_data\n",
        "print (\"(1)=====================================\")\n",
        "!ls\n",
        "\n",
        "# 예상 실행결과 : \n",
        "# /content/.config/.last_update_check.json\n",
        "# /content/.config/gce\n",
        "# /content/.config/active_config\n",
        "# /content/.config/.last_opt_in_prompt.yaml\n",
        "# /content/.config/.last_survey_prompt.yaml\n",
        "# /content/.config/config_sentinel\n",
        "# /content/.config/.metricsUUID\n",
        "# /content/.config/logs/2020.06.26/16.25.58.989664.log\n",
        "# /content/.config/logs/2020.06.26/16.26.18.185568.log\n",
        "# /content/.config/logs/2020.06.26/16.26.32.322745.log\n",
        "# /content/.config/logs/2020.06.26/16.26.12.354762.log\n",
        "# /content/.config/logs/2020.06.26/16.25.38.639070.log\n",
        "# /content/.config/logs/2020.06.26/16.26.31.787344.log\n",
        "# /content/.config/configurations/config_default\n",
        "# /content/sample_data/README.md\n",
        "# /content/sample_data/anscombe.json\n",
        "# /content/sample_data/mnist_test.csv\n",
        "# /content/sample_data/california_housing_train.csv\n",
        "# /content/sample_data/california_housing_test.csv\n",
        "# /content/sample_data/mnist_train_small.csv\n",
        "print (\"(2)=====================================\")\n",
        "import os\n",
        " \n",
        "cwd = os.getcwd()\n",
        " \n",
        "for (path, dirs, files) in os.walk(cwd):\n",
        "    for f in files:\n",
        "        fullpath = os.path.join(path, f)\n",
        "        print(fullpath)\n",
        "\n",
        "print (\"(3)=====================================\")\n",
        "# 예상 실행결과 : \n",
        "# (3)=====================================\n",
        "# ../bin\n",
        "# ../boot\n",
        "# ../usr\n",
        "# ../var\n",
        "# ../proc\n",
        "# ../home\n",
        "# ../lib\n",
        "# ../dev\n",
        "# ../tmp\n",
        "# ../sbin\n",
        "# ../srv\n",
        "# ../sys\n",
        "# ../media\n",
        "# ../run\n",
        "# ../lib64\n",
        "# ../root\n",
        "# ../mnt\n",
        "# ../opt\n",
        "# ../etc\n",
        "# ../.dockerenv\n",
        "# ../tools\n",
        "# ../datalab\n",
        "# ../swift\n",
        "# ../content\n",
        "# ../dlib-19.18.0-cp27-cp27mu-linux_x86_64.whl\n",
        "# ../tensorflow-1.15.2\n",
        "# ../dlib-19.18.0-cp36-cp36m-linux_x86_64.whl\n",
        "# ../lib32\n",
        "# (4)=====================================\n",
        "# ../content/.config\n",
        "# ../content/sample_data\n",
        "# (5)=====================================\n",
        "# ../content/sample_data/README.md\n",
        "# ../content/sample_data/anscombe.json\n",
        "# ../content/sample_data/mnist_test.csv\n",
        "# ../content/sample_data/california_housing_train.csv\n",
        "# ../content/sample_data/california_housing_test.csv\n",
        "# ../content/sample_data/mnist_train_small.csv\n",
        "def search(dirname):\n",
        "    filenames = os.listdir(dirname)\n",
        "    for filename in filenames:\n",
        "        full_filename = os.path.join(dirname, filename)\n",
        "        print (full_filename)\n",
        "\n",
        "search(\"..\")\n",
        "print (\"(4)=====================================\")\n",
        "search(\"../content\")\n",
        "print (\"(5)=====================================\")\n",
        "search(\"../content/sample_data\")"
      ],
      "execution_count": 1,
      "outputs": [
        {
          "output_type": "stream",
          "text": [
            "(1)=====================================\n",
            "sample_data\n",
            "(2)=====================================\n",
            "/content/.config/.last_update_check.json\n",
            "/content/.config/gce\n",
            "/content/.config/active_config\n",
            "/content/.config/.last_opt_in_prompt.yaml\n",
            "/content/.config/.last_survey_prompt.yaml\n",
            "/content/.config/config_sentinel\n",
            "/content/.config/.metricsUUID\n",
            "/content/.config/logs/2020.06.26/16.25.58.989664.log\n",
            "/content/.config/logs/2020.06.26/16.26.18.185568.log\n",
            "/content/.config/logs/2020.06.26/16.26.32.322745.log\n",
            "/content/.config/logs/2020.06.26/16.26.12.354762.log\n",
            "/content/.config/logs/2020.06.26/16.25.38.639070.log\n",
            "/content/.config/logs/2020.06.26/16.26.31.787344.log\n",
            "/content/.config/configurations/config_default\n",
            "/content/sample_data/README.md\n",
            "/content/sample_data/anscombe.json\n",
            "/content/sample_data/mnist_test.csv\n",
            "/content/sample_data/california_housing_train.csv\n",
            "/content/sample_data/california_housing_test.csv\n",
            "/content/sample_data/mnist_train_small.csv\n",
            "(3)=====================================\n",
            "../bin\n",
            "../boot\n",
            "../usr\n",
            "../var\n",
            "../proc\n",
            "../home\n",
            "../lib\n",
            "../dev\n",
            "../tmp\n",
            "../sbin\n",
            "../srv\n",
            "../sys\n",
            "../media\n",
            "../run\n",
            "../lib64\n",
            "../root\n",
            "../mnt\n",
            "../opt\n",
            "../etc\n",
            "../.dockerenv\n",
            "../tools\n",
            "../datalab\n",
            "../swift\n",
            "../content\n",
            "../dlib-19.18.0-cp27-cp27mu-linux_x86_64.whl\n",
            "../tensorflow-1.15.2\n",
            "../dlib-19.18.0-cp36-cp36m-linux_x86_64.whl\n",
            "../lib32\n",
            "(4)=====================================\n",
            "../content/.config\n",
            "../content/sample_data\n",
            "(5)=====================================\n",
            "../content/sample_data/README.md\n",
            "../content/sample_data/anscombe.json\n",
            "../content/sample_data/mnist_test.csv\n",
            "../content/sample_data/california_housing_train.csv\n",
            "../content/sample_data/california_housing_test.csv\n",
            "../content/sample_data/mnist_train_small.csv\n"
          ],
          "name": "stdout"
        }
      ]
    },
    {
      "cell_type": "markdown",
      "metadata": {
        "id": "WOJChf9lk_iI",
        "colab_type": "text"
      },
      "source": [
        ""
      ]
    },
    {
      "cell_type": "code",
      "metadata": {
        "id": "To0psu5Lq9T6",
        "colab_type": "code",
        "colab": {
          "base_uri": "https://localhost:8080/",
          "height": 125
        },
        "outputId": "ce74abab-9ce1-4c5a-99e6-4c8dfc6722a6"
      },
      "source": [
        "#################################################################\n",
        "# Google Drive Mount 하기\n",
        "#################################################################\n",
        "\n",
        "import os\n",
        "\n",
        "# 실행시 등장하는 URL을 클릭하여 허용해주면 인증KEY가 나타난다. 복사하여 URL아래 빈칸에 붙여넣으면 마운트에 성공하게된다.\n",
        "from google.colab import drive\n",
        "drive.mount('./GoogleDrive')\n"
      ],
      "execution_count": 2,
      "outputs": [
        {
          "output_type": "stream",
          "text": [
            "Go to this URL in a browser: https://accounts.google.com/o/oauth2/auth?client_id=947318989803-6bn6qk8qdgf4n4g3pfee6491hc0brc4i.apps.googleusercontent.com&redirect_uri=urn%3aietf%3awg%3aoauth%3a2.0%3aoob&response_type=code&scope=email%20https%3a%2f%2fwww.googleapis.com%2fauth%2fdocs.test%20https%3a%2f%2fwww.googleapis.com%2fauth%2fdrive%20https%3a%2f%2fwww.googleapis.com%2fauth%2fdrive.photos.readonly%20https%3a%2f%2fwww.googleapis.com%2fauth%2fpeopleapi.readonly\n",
            "\n",
            "Enter your authorization code:\n",
            "··········\n",
            "Mounted at ./GoogleDrive\n"
          ],
          "name": "stdout"
        }
      ]
    },
    {
      "cell_type": "markdown",
      "metadata": {
        "id": "rvHit6Z6k_KX",
        "colab_type": "text"
      },
      "source": [
        ""
      ]
    },
    {
      "cell_type": "code",
      "metadata": {
        "id": "Y-n2dwz_eQco",
        "colab_type": "code",
        "colab": {
          "base_uri": "https://localhost:8080/",
          "height": 834
        },
        "outputId": "24af408f-37aa-4f14-96c2-458a4811f2ab"
      },
      "source": [
        "# 현재 폴더의 위치\n",
        "# https://drive.google.com/drive/folders/16z7jfwjSY_Xf2Tn0RYzqdHnWP5S0gLGe\n",
        "# https://drive.google.com/drive/CoLab/my_sample_data 에서 실행되고 있으므로\n",
        "# https://drive.google.com/drive/CoLab/의 내용이 보이는 것이다.\n",
        "# CoLab 에는 my_sample_data 폴더 하나와 Untitled0.ipynb 파일 하나가 있다.\n",
        "\n",
        "# 예상 실행결과 : GoogleDrive  sample_data\n",
        "print (\"(1)=====================================\")\n",
        "!ls\n",
        "\n",
        "# 예상 실행결과 : \n",
        "# /content/GoogleDrive/My Drive/CoLab/Untitled0.ipynb\n",
        "# /content/GoogleDrive/My Drive/CoLab/my_sample_data/Path.ipynb\n",
        "print (\"(2)=====================================\")\n",
        "import os\n",
        " \n",
        "cwd = os.getcwd()\n",
        " \n",
        "for (path, dirs, files) in os.walk(cwd):\n",
        "    for f in files:\n",
        "        fullpath = os.path.join(path, f)\n",
        "        if \"CoLab\" in fullpath:\n",
        "            print(fullpath)\n",
        "\n",
        "def search(dirname):\n",
        "    filenames = os.listdir(dirname)\n",
        "    for filename in filenames:\n",
        "        full_filename = os.path.join(dirname, filename)\n",
        "        print (full_filename)\n",
        "\n",
        "# 예상 실행결과 : \n",
        "# (3)=====================================\n",
        "# ../bin\n",
        "# ../boot\n",
        "# ../usr\n",
        "# ../var\n",
        "# ../proc\n",
        "# ../home\n",
        "# ../lib\n",
        "# ../dev\n",
        "# ../tmp\n",
        "# ../sbin\n",
        "# ../srv\n",
        "# ../sys\n",
        "# ../media\n",
        "# ../run\n",
        "# ../lib64\n",
        "# ../root\n",
        "# ../mnt\n",
        "# ../opt\n",
        "# ../etc\n",
        "# ../content\n",
        "# ../.dockerenv\n",
        "# ../tools\n",
        "# ../datalab\n",
        "# ../swift\n",
        "# ../dlib-19.18.0-cp27-cp27mu-linux_x86_64.whl\n",
        "# ../tensorflow-1.15.2\n",
        "# ../dlib-19.18.0-cp36-cp36m-linux_x86_64.whl\n",
        "# ../lib32\n",
        "print (\"(3)=====================================\")\n",
        "search(\"..\")\n",
        "\n",
        "\n",
        "# (4)=====================================\n",
        "# ../content/.config\n",
        "# ../content/GoogleDrive\n",
        "# ../content/sample_data\n",
        "print (\"(4)=====================================\")\n",
        "search(\"../content\")\n",
        "\n",
        "# (5)=====================================\n",
        "# ../content/sample_data/README.md\n",
        "# ../content/sample_data/anscombe.json\n",
        "# ../content/sample_data/mnist_test.csv\n",
        "# ../content/sample_data/california_housing_train.csv\n",
        "# ../content/sample_data/california_housing_test.csv\n",
        "# ../content/sample_data/mnist_train_small.csv\n",
        "print (\"(5)=====================================\")\n",
        "search(\"../content/sample_data\")"
      ],
      "execution_count": 3,
      "outputs": [
        {
          "output_type": "stream",
          "text": [
            "GoogleDrive  sample_data\n",
            "(1)=====================================\n",
            "GoogleDrive  sample_data\n",
            "(2)=====================================\n",
            "/content/GoogleDrive/My Drive/CoLab/Untitled0.ipynb\n",
            "/content/GoogleDrive/My Drive/CoLab/my_sample_data/Path.ipynb\n",
            "(3)=====================================\n",
            "../bin\n",
            "../boot\n",
            "../usr\n",
            "../var\n",
            "../proc\n",
            "../home\n",
            "../lib\n",
            "../dev\n",
            "../tmp\n",
            "../sbin\n",
            "../srv\n",
            "../sys\n",
            "../media\n",
            "../run\n",
            "../lib64\n",
            "../root\n",
            "../mnt\n",
            "../opt\n",
            "../etc\n",
            "../content\n",
            "../.dockerenv\n",
            "../tools\n",
            "../datalab\n",
            "../swift\n",
            "../dlib-19.18.0-cp27-cp27mu-linux_x86_64.whl\n",
            "../tensorflow-1.15.2\n",
            "../dlib-19.18.0-cp36-cp36m-linux_x86_64.whl\n",
            "../lib32\n",
            "(4)=====================================\n",
            "../content/.config\n",
            "../content/GoogleDrive\n",
            "../content/sample_data\n",
            "(5)=====================================\n",
            "../content/sample_data/README.md\n",
            "../content/sample_data/anscombe.json\n",
            "../content/sample_data/mnist_test.csv\n",
            "../content/sample_data/california_housing_train.csv\n",
            "../content/sample_data/california_housing_test.csv\n",
            "../content/sample_data/mnist_train_small.csv\n"
          ],
          "name": "stdout"
        }
      ]
    },
    {
      "cell_type": "code",
      "metadata": {
        "id": "6Ypo2CBmfziY",
        "colab_type": "code",
        "colab": {
          "base_uri": "https://localhost:8080/",
          "height": 34
        },
        "outputId": "061ce401-a814-4f89-b4b8-9418031bdcee"
      },
      "source": [
        "!ls\n",
        "\n",
        "# 내 드라이브는 원격서버가 아니라 로컬서버로 간주하므로 명령어 실행시 앞단에 !를 붙이지 않는다.\n",
        "# ls 는 오류 발생"
      ],
      "execution_count": 4,
      "outputs": [
        {
          "output_type": "stream",
          "text": [
            "GoogleDrive  sample_data\n"
          ],
          "name": "stdout"
        }
      ]
    },
    {
      "cell_type": "code",
      "metadata": {
        "id": "dc4FsfL4gBv4",
        "colab_type": "code",
        "colab": {
          "base_uri": "https://localhost:8080/",
          "height": 52
        },
        "outputId": "717fda02-c13c-476a-ca70-7058fc8869f0"
      },
      "source": [
        "# 해당 드라이브로 이동 \n",
        "os.chdir(\"/content/GoogleDrive/My Drive/CoLab\") \n",
        "# 내 드라이브는 원격서버가 아니라 로컬서버로 간주하므로 명령어 실행시 앞단에 !를 붙이지 않는다.\n",
        "print(os.getcwd())\n",
        "\n",
        "# 내드라이브의 전체 목록이 나타난다.\n",
        "!ls"
      ],
      "execution_count": 5,
      "outputs": [
        {
          "output_type": "stream",
          "text": [
            "/content/GoogleDrive/My Drive/CoLab\n",
            "my_sample_data\tUntitled0.ipynb\n"
          ],
          "name": "stdout"
        }
      ]
    },
    {
      "cell_type": "code",
      "metadata": {
        "id": "rQXsuwXBjMiv",
        "colab_type": "code",
        "colab": {}
      },
      "source": [
        ""
      ],
      "execution_count": null,
      "outputs": []
    }
  ]
}